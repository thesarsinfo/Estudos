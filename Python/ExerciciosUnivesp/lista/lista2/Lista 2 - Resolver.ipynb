{
 "cells": [
  {
   "cell_type": "markdown",
   "metadata": {},
   "source": [
    "# Lista 2 - estruturas condicionais"
   ]
  },
  {
   "cell_type": "markdown",
   "metadata": {},
   "source": [
    "1. Faça um programa que peça a idade do usuário e imprima se ele é\n",
    "maior ou menor de 18 anos.\n"
   ]
  },
  {
   "cell_type": "code",
   "execution_count": 3,
   "metadata": {},
   "outputs": [
    {
     "name": "stdout",
     "output_type": "stream",
     "text": [
      "Menor de idade\n"
     ]
    }
   ],
   "source": [
    "idade = int(input(\"Digite sua idade\"))\n",
    "if idade >= 18:\n",
    "    print(\"Maior de idade\") \n",
    "elif idade < 0:\n",
    "    print(\"Idade invalida\")\n",
    "else:\n",
    "    print(\"Menor de idade\")\n"
   ]
  },
  {
   "cell_type": "markdown",
   "metadata": {},
   "source": [
    "\n",
    "\n",
    "2. Faça um programa que peça um número e mostre se ele é positivo\n",
    "ou negativo.\n"
   ]
  },
  {
   "cell_type": "code",
   "execution_count": 8,
   "metadata": {},
   "outputs": [
    {
     "name": "stdout",
     "output_type": "stream",
     "text": [
      "Digite um numero valido\n"
     ]
    }
   ],
   "source": [
    "try:\n",
    "    numero = int(input(\"Digite um número positivo ou negativo\"))\n",
    "    if (numero < 0):\n",
    "        print(\"Número negativo\")\n",
    "    elif (numero == 0):\n",
    "        print(\"Numero neutro\")\n",
    "    else:\n",
    "        print(\"Número positivo\")\n",
    "except:\n",
    "    print(\"Digite um numero valido\")\n",
    "finally:\n",
    "    print(\"Fim de programa\")"
   ]
  },
  {
   "cell_type": "markdown",
   "metadata": {},
   "source": [
    "\n",
    "\n",
    "3. Faça um programa que dado um número digitado, mostre se ele é\n",
    "Par ou Ímpar.\n",
    "\n"
   ]
  },
  {
   "cell_type": "code",
   "execution_count": 9,
   "metadata": {},
   "outputs": [
    {
     "name": "stdout",
     "output_type": "stream",
     "text": [
      "Numero impar\n"
     ]
    }
   ],
   "source": [
    "numeroPareado = int(input(\"Digite um numero inteiro positivo\"))\n",
    "if(numeroPareado % 2 == 0):\n",
    "    print(\"Numero par\")\n",
    "else:\n",
    "    print(\"Numero impar\")\n"
   ]
  },
  {
   "cell_type": "markdown",
   "metadata": {},
   "source": [
    "\n",
    "4. Faça um programa que peça dois números e mostre o maior deles.\n",
    "\n"
   ]
  },
  {
   "cell_type": "code",
   "execution_count": 11,
   "metadata": {},
   "outputs": [
    {
     "name": "stdout",
     "output_type": "stream",
     "text": [
      "O segundo numero 12 é maior que o primeiro numero 10\n"
     ]
    }
   ],
   "source": [
    "primeiroNumero =  int(input(\"Digite um número\"))\n",
    "segundoNumero = int(input(\"digite o segundo numero\"))\n",
    "if (primeiroNumero > segundoNumero):\n",
    "    print(f\"O primeiro numero {primeiroNumero} é maior que o segundo numero {segundoNumero}\")\n",
    "elif (primeiroNumero == segundoNumero):\n",
    "    print(f\"O primeiro numero {primeiroNumero} é igual que o segundo numero {segundoNumero}\")\n",
    "else:\n",
    "    print(f\"O segundo numero {segundoNumero} é maior que o primeiro numero {primeiroNumero}\")\n",
    "\n"
   ]
  },
  {
   "cell_type": "markdown",
   "metadata": {},
   "source": [
    "\n",
    "5. Faça um programa que leia a validade das informações:\n",
    "\n",
    "a. Idade: entre 0 e 150;\n",
    "\n",
    "b. Salário: maior que 0;\n",
    "\n",
    "c. Sexo: M, F ou Outro;\n",
    "\n",
    "O programa deve imprimir uma mensagem de erro para cada\n",
    "informação inválida.\n"
   ]
  },
  {
   "cell_type": "code",
   "execution_count": null,
   "metadata": {},
   "outputs": [],
   "source": [
    "idade = int(input(\"Digite sua idade\"))\n",
    "salario = float(input(\"Digite o seu salário\"))\n",
    "sexo = input(\"Digite M, F ou outro\").upper()\n",
    "if idade < 0 or idade > 150:\n",
    "    print(\"Idade invalido\")\n",
    "else:\n",
    "    print(\"idade valida\")\n",
    "if salario < 0:\n",
    "    print(\"Salário invalido\")\n",
    "else:\n",
    "    print(\"Salário valido\")\n",
    "if sexo == \"M\" or sexo == \"F\"  or sexo == \"OUTRO\":\n",
    "    print(\"Sexo valido\")\n",
    "else:\n",
    "    print(\"Sexo invalido\")\n",
    "\n"
   ]
  },
  {
   "cell_type": "markdown",
   "metadata": {},
   "source": [
    "\n",
    "\n",
    "6. Escreva um programa que peça a nota de 3 provas de um aluno e\n",
    "verifique se ele passou o não de ano.\n",
    "Obs.: O aluno irá passar de ano se sua média for maior que 6.\n"
   ]
  },
  {
   "cell_type": "code",
   "execution_count": null,
   "metadata": {},
   "outputs": [],
   "source": [
    "notaUm = float(input(\"Digite sua nota\"))\n",
    "notaDois = float(input(\"Digite sua nota\"))\n",
    "notaTres = float(input(\"Digite sua nota\"))\n",
    "\n",
    "media = (notaUm + notaDois + notaTres) / 3\n",
    "\n",
    "if notaUm < 0 or notaUm > 10 or notaDois < 0 or notaDois > 10 or notaTres < 0 or notaTres > 10 :\n",
    "    print(\"nota invalida\")\n",
    "else:\n",
    "    if(media > 6.0):\n",
    "        print(\"Aprovado\")\n",
    "    else:\n",
    "        print(\"desaprovaso\")"
   ]
  },
  {
   "cell_type": "markdown",
   "metadata": {},
   "source": [
    "\n",
    "7. Faça um programa que mostre uma questão de múltipla escolha com\n",
    "5 opções (letras a, b, c, d, e e). Sabendo a resposta certa, o programa\n",
    "deve receber a opção do usuário e informar a letra que o usuário\n",
    "marcou e se a resposta está certa ou errada.\n"
   ]
  },
  {
   "cell_type": "code",
   "execution_count": 16,
   "metadata": {},
   "outputs": [
    {
     "name": "stdout",
     "output_type": "stream",
     "text": [
      "Quando é 5 ^ 0\n",
      "a = -1\n",
      "b = 0\n",
      "c = 1\n",
      "d = 5\n",
      "e = 50\n",
      "A resposta c Certa Resposta\n"
     ]
    }
   ],
   "source": [
    "print(\"Quando é 5 ^ 0\",end=\"\\n\")\n",
    "print(\"a = -1\",end=\"\\n\")\n",
    "print(\"b = 0\",end=\"\\n\")\n",
    "print(\"c = 1\",end=\"\\n\")\n",
    "print(\"d = 5\",end=\"\\n\")\n",
    "print(\"e = 50\",end=\"\\n\")\n",
    "resposta = input(\"Digite a resposta\").lower()\n",
    "respostaCorreta = \"c\"\n",
    "if resposta == respostaCorreta:\n",
    "    print(f\"A resposta {resposta} Certa Resposta\")\n",
    "else:\n",
    "    print(\"Resposta Errada\")\n"
   ]
  },
  {
   "cell_type": "markdown",
   "metadata": {},
   "source": [
    "\n",
    "\n",
    "8. Vamos fazer um programa para verificar quem é o assassino de um\n",
    "crime. Para descobrir o assassino, a polícia faz um pequeno\n",
    "questionário com 5 perguntas onde a resposta só pode ser sim ou não:\n",
    "a. Mora perto da vítima?\n",
    "b. Já trabalhou com a vítima?\n",
    "c. Telefonou para a vítima?\n",
    "d. Esteve no local do crime?\n",
    "e. Devia para a vítima?\n",
    "Cada resposta sim dá um ponto para o suspeito. A polícia considera\n",
    "que os suspeitos com 5 pontos são os assassinos, com 4 a 3 pontos são\n",
    "cúmplices e 2 pontos são apenas suspeitos, necessitando outras\n",
    "investigações. Valores abaixo de 1 são liberados.\n"
   ]
  },
  {
   "cell_type": "code",
   "execution_count": 9,
   "metadata": {},
   "outputs": [
    {
     "name": "stdout",
     "output_type": "stream",
     "text": [
      "Suspeito\n"
     ]
    }
   ],
   "source": [
    "contador = 0\n",
    "resposta = [None] * 5\n",
    "perguntas = [\"Mora perto da vítima? sim ou nao\",\"Já trabalhou com a vítima?\",\"Telefonou para a vítima?\",\"Esteve no local do crime?\",\"Devia para a vítima?\"]\n",
    "for i in range(len(perguntas)):\n",
    "    resposta[i] = input(perguntas[i]).upper()\n",
    "    if resposta[i] == \"SIM\":\n",
    "        contador +=1\n",
    "if contador <= 1:\n",
    "    print(\"Suspeito Liberado\")\n",
    "elif contador <= 2:\n",
    "    print(\"Suspeito\")\n",
    "elif contador <= 4:\n",
    "    print(\"Suspeito Cumplice\")\n",
    "elif contador == 5:    \n",
    "    print(\"Assassino\")\n",
    "    \n",
    "\n"
   ]
  },
  {
   "cell_type": "markdown",
   "metadata": {},
   "source": [
    "__Solução com verificação da resposta usando while e listas__\n",
    "\n",
    "Sugestão do colega"
   ]
  },
  {
   "cell_type": "code",
   "execution_count": null,
   "metadata": {},
   "outputs": [],
   "source": [
    "\n"
   ]
  },
  {
   "cell_type": "markdown",
   "metadata": {},
   "source": [
    "__O exercício usando while e for__\n",
    "\n",
    "Não precisamos mais fazer vários inputs :)"
   ]
  },
  {
   "cell_type": "code",
   "execution_count": null,
   "metadata": {},
   "outputs": [],
   "source": []
  },
  {
   "cell_type": "markdown",
   "metadata": {},
   "source": [
    "\n",
    "9. Um produto vai sofrer aumento de acordo com a Tabela 1 abaixo. Faça\n",
    "um programa que peça para o usuário digitar o valor do produto de\n",
    "acordo com o preço antigo e escreva uma das mensagens da Tabela\n",
    "2, de acordo com o preço reajustado:\n",
    "\n",
    "REAJUSTE: \n",
    "\n",
    "- Até 50 : 5\\%\n",
    "\n",
    "- Entre 50 e 100 : 10\\%\n",
    "\n",
    "- Entre 100 e 150 : 13\\%\n",
    "\n",
    "- Acima de 150 : 15\\%\n",
    "\n",
    "MENSAGENS: \n",
    "\n",
    "- Até 80 : Barato\n",
    "\n",
    "- Entre 80 e 115 : Razoável\n",
    "\n",
    "- Entre 115 e 150 : Normal\n",
    "\n",
    "- Entre 150 e 170 : Caro\n",
    "\n",
    "- Acima de 170 : Muito caro"
   ]
  },
  {
   "cell_type": "code",
   "execution_count": 22,
   "metadata": {},
   "outputs": [
    {
     "name": "stdout",
     "output_type": "stream",
     "text": [
      "Deu certo\n",
      "Valor barato\n"
     ]
    }
   ],
   "source": [
    "valor = float(input(\"Digite o valor do produto\"))\n",
    "\n",
    "match valor:\n",
    "    case valor if 0 <= valor <= 50:\n",
    "        valorReajustado = valor * 1.05           \n",
    "    case valor if 51 <= valor <= 100:\n",
    "        valorReajustado = valor * 1.10\n",
    "    case valor if 101 <= valor <= 150:\n",
    "        valorReajustado = valor * 1.13       \n",
    "    case valor if 150 <= valor:        \n",
    "        valorReajustado = valor * 1.15\n",
    "    case _:\n",
    "        print(\"Valor negativo\")\n",
    "match valorReajustado:\n",
    "    case valorReajustado if 0 <= valorReajustado <= 80:\n",
    "        print(\"Valor barato\")\n",
    "    case valorReajustado if 81 <= valorReajustado <= 115:\n",
    "        print(\"Valor razoavel\")\n",
    "    case valorReajustado if 115 <= valorReajustado <= 150:\n",
    "        print(\"Valor Normal\")\n",
    "    case valorReajustado if 150 <= valorReajustado <= 170:\n",
    "        print(\"Valor Caro\")\n",
    "    case valorReajustado if 171 <= valorReajustado:\n",
    "        print(\"Valor Muito Caro\")\n",
    "    case _:\n",
    "        print(\"Valor fora do escopo\")\n",
    "\n"
   ]
  },
  {
   "cell_type": "markdown",
   "metadata": {},
   "source": [
    "Eliminando redundâncias nos `elif`..."
   ]
  },
  {
   "cell_type": "code",
   "execution_count": null,
   "metadata": {
    "ExecuteTime": {
     "end_time": "2021-10-30T20:55:16.086176Z",
     "start_time": "2021-10-30T20:55:14.610690Z"
    }
   },
   "outputs": [],
   "source": []
  },
  {
   "cell_type": "markdown",
   "metadata": {},
   "source": [
    "__________________\n",
    "__________________\n",
    "\n",
    "__________________\n",
    "__________________"
   ]
  },
  {
   "cell_type": "markdown",
   "metadata": {},
   "source": [
    "# DESAFIOS"
   ]
  },
  {
   "cell_type": "markdown",
   "metadata": {},
   "source": [
    "\n",
    "1. Faça um programa que leia 3 números e informe o maior deles.\n",
    "\n"
   ]
  },
  {
   "cell_type": "code",
   "execution_count": null,
   "metadata": {},
   "outputs": [],
   "source": []
  },
  {
   "cell_type": "markdown",
   "metadata": {},
   "source": [
    "2. Faça o mesmo programa do exercício anterior, porém com 4\n",
    "números.\n",
    "\n"
   ]
  },
  {
   "cell_type": "code",
   "execution_count": null,
   "metadata": {},
   "outputs": [],
   "source": []
  },
  {
   "cell_type": "markdown",
   "metadata": {},
   "source": [
    "__Para achar o maior entre N números, usamos listas, de um jeito bem simples!__"
   ]
  },
  {
   "cell_type": "code",
   "execution_count": null,
   "metadata": {},
   "outputs": [],
   "source": []
  },
  {
   "cell_type": "markdown",
   "metadata": {},
   "source": [
    "3. Um hospital quer fazer o diagnóstico de gripe ou dengue a partir de\n",
    "um questionário de sintomas, tendo as perguntas abaixo, faça um\n",
    "programa que faça o diagnóstico deste hospital:\n",
    "a. Sente dor no corpo?\n",
    "b. Você tem febre?\n",
    "c. Você tem tosse?\n",
    "d. Está com congestão nasal?\n",
    "e. Tem manchas pelo corpo?\n",
    "Para o diagnóstico ele tem a seguinte tabela (**ver na lista**)"
   ]
  },
  {
   "cell_type": "code",
   "execution_count": null,
   "metadata": {},
   "outputs": [],
   "source": []
  },
  {
   "cell_type": "code",
   "execution_count": null,
   "metadata": {},
   "outputs": [],
   "source": []
  }
 ],
 "metadata": {
  "kernelspec": {
   "display_name": "Python 3",
   "language": "python",
   "name": "python3"
  },
  "language_info": {
   "codemirror_mode": {
    "name": "ipython",
    "version": 3
   },
   "file_extension": ".py",
   "mimetype": "text/x-python",
   "name": "python",
   "nbconvert_exporter": "python",
   "pygments_lexer": "ipython3",
   "version": "3.10.0"
  }
 },
 "nbformat": 4,
 "nbformat_minor": 4
}
