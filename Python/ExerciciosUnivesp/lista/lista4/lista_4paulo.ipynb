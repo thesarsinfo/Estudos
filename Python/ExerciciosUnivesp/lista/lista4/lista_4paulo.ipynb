{
 "cells": [
  {
   "cell_type": "markdown",
   "metadata": {},
   "source": [
    "# Lista 4 - listas e for"
   ]
  },
  {
   "cell_type": "code",
   "execution_count": null,
   "metadata": {},
   "outputs": [],
   "source": []
  },
  {
   "cell_type": "markdown",
   "metadata": {},
   "source": [
    "1.Crie uma lista qualquer e faça um programa que imprima cada elemento da lista usando o for."
   ]
  },
  {
   "cell_type": "code",
   "execution_count": 10,
   "metadata": {},
   "outputs": [
    {
     "name": "stdout",
     "output_type": "stream",
     "text": [
      "bulbasaur\n",
      "charmander\n",
      "squirtle\n",
      "24\n"
     ]
    }
   ],
   "source": [
    "lista_qualquer = [\"bulbasaur\", \"charmander\", \"squirtle\",24]\n",
    "\n",
    "\n",
    "for elemento in lista_qualquer:\n",
    "    print(elemento)\n"
   ]
  },
  {
   "cell_type": "markdown",
   "metadata": {},
   "source": [
    "2.Faça um programa que imprima todos os itens de uma lista usando while e compare com o exercício 1. \n"
   ]
  },
  {
   "cell_type": "code",
   "execution_count": 11,
   "metadata": {},
   "outputs": [
    {
     "name": "stdout",
     "output_type": "stream",
     "text": [
      "bulbasaur\n",
      "charmander\n",
      "squirtle\n",
      "25\n",
      "26\n"
     ]
    }
   ],
   "source": [
    "lista_qualquer = [\"bulbasaur\", \"charmander\", \"squirtle\", 25, 26]\n",
    "\n",
    "contador = 0\n",
    "numero_elementos = len(lista_qualquer)\n",
    "\n",
    "while contador < numero_elementos:\n",
    "\n",
    "    print(lista_qualquer[contador])\n",
    "    contador += 1  "
   ]
  },
  {
   "cell_type": "markdown",
   "metadata": {},
   "source": [
    "\n",
    "3.Faça um programa que peça para o usuário digitar um número n e imprima uma lista com todos os números de 0 a n-1. Exemplo: se o usuário digitar 5, o programa deve imprimir [0, 1, 2, 3, 4] \n",
    "\n"
   ]
  },
  {
   "cell_type": "code",
   "execution_count": 1,
   "metadata": {},
   "outputs": [
    {
     "name": "stdout",
     "output_type": "stream",
     "text": [
      "digite o numero de elementos da sua lista\n",
      "[0, 1, 2, 3, 4]\n",
      "digite o numero de elementos da sua lista\n",
      "[0, 1, 2, 3]\n"
     ]
    }
   ],
   "source": [
    "print(\"digite o numero de elementos da sua lista\")\n",
    "\n",
    "numero = (int(input()))\n",
    "lista = []\n",
    "\n",
    "contador = 0\n",
    "\n",
    "while (contador < numero):\n",
    "    lista.append(contador)\n",
    "    contador +=1\n",
    "\n",
    "print(lista)\n",
    "\n",
    "\n",
    "#jeito 2 de fazer \n",
    "\n",
    "print(\"digite o numero de elementos da sua lista\")\n",
    "\n",
    "numero = (int(input()))\n",
    "lista = []\n",
    "\n",
    "\n",
    "for elemento in range(numero):\n",
    "    lista.append(elemento)\n",
    "    \n",
    "print(lista)\n"
   ]
  },
  {
   "cell_type": "markdown",
   "metadata": {},
   "source": [
    "4.Faça um programa que olhe todos os itens de uma lista e diga quantos deles são pares. \n",
    "\n"
   ]
  },
  {
   "cell_type": "code",
   "execution_count": null,
   "metadata": {},
   "outputs": [
    {
     "name": "stdout",
     "output_type": "stream",
     "text": [
      "2\n",
      "4\n",
      "6\n",
      "8\n",
      "18\n",
      "14\n",
      "16\n",
      "números pares: 7\n"
     ]
    }
   ],
   "source": [
    "lista = [2,4,5,6,7,8,9,18,14,16]\n",
    "\n",
    "acumulador = 0\n",
    "\n",
    "for elemento in lista:\n",
    "    resultado = elemento % 2\n",
    "    if (resultado == 0):\n",
    "        acumulador +=1\n",
    "        print(elemento)\n",
    "\n",
    "\n",
    "print(\"números pares:\", acumulador)\n"
   ]
  },
  {
   "cell_type": "markdown",
   "metadata": {},
   "source": [
    "__ELABORAÇÃO: mostrar quais são os números pares__"
   ]
  },
  {
   "cell_type": "code",
   "execution_count": null,
   "metadata": {},
   "outputs": [],
   "source": []
  },
  {
   "cell_type": "markdown",
   "metadata": {},
   "source": [
    "5.Faça um programa que imprima o maior número de uma lista, sem usar o método max().\n"
   ]
  },
  {
   "cell_type": "code",
   "execution_count": null,
   "metadata": {},
   "outputs": [
    {
     "name": "stdout",
     "output_type": "stream",
     "text": [
      "100\n",
      "100\n"
     ]
    }
   ],
   "source": [
    "lista = [ 0, 17, 52, 68, 7, 87, 100]\n",
    "\n",
    "\n",
    "maior = lista[0]\n",
    "\n",
    "for elemento in lista:\n",
    "    if elemento > maior:\n",
    "        maior = elemento\n",
    "        \n",
    "\n",
    "print(maior) \n",
    "\n",
    "#jeito dois\n",
    "\n",
    "lista=[2,45,5,3,78,98,100]\n",
    "\n",
    "lista_final = sorted(lista,reverse=True)\n",
    "print(lista_final[0])"
   ]
  },
  {
   "cell_type": "markdown",
   "metadata": {},
   "source": [
    "\n",
    "6.Agora usando o método max() faça um programa que imprima os três maiores números de uma lista.  Dica: Use o método próprio de listas .remove(). \n",
    "\n"
   ]
  },
  {
   "cell_type": "code",
   "execution_count": null,
   "metadata": {},
   "outputs": [
    {
     "name": "stdout",
     "output_type": "stream",
     "text": [
      "78\n",
      "49\n",
      "22\n"
     ]
    }
   ],
   "source": [
    "lista = [22, 3, 49, 5, 7, 78]\n",
    "\n",
    "numero_1 = max(lista)\n",
    "print(numero_1)\n",
    "lista.remove(max(lista))\n",
    "numero_2 = max(lista)\n",
    "print(numero_2)\n",
    "lista.remove(max(lista))\n",
    "numero_3= max(lista)\n",
    "print(numero_3)\n",
    "    "
   ]
  },
  {
   "cell_type": "markdown",
   "metadata": {},
   "source": [
    "7.Faça um programa que, dadas duas listas de mesmo tamanho, crie uma nova lista com cada elemento igual a soma dos elementos da lista 1 com os da lista 2, na mesma posição.  Exemplo: dadas lista1 = [1, 4, 5] e lista2 = [2, 2, 3], então lista3 = [1+2, 4+2, 5+3] = [3, 6, 8] \n",
    "\n"
   ]
  },
  {
   "cell_type": "code",
   "execution_count": null,
   "metadata": {},
   "outputs": [
    {
     "name": "stdout",
     "output_type": "stream",
     "text": [
      "[2, 6, 7, 9]\n"
     ]
    }
   ],
   "source": [
    "lista = [0, 4, 5, 7]\n",
    "lista2 = [2, 2, 2, 2]\n",
    "lista_final= []\n",
    "\n",
    "numero = len(lista)\n",
    "\n",
    "contador = 0\n",
    "\n",
    "while(contador < numero):\n",
    "    arma = lista[contador] + lista2[contador]\n",
    "    lista_final.append(arma)\n",
    "    contador +=1\n",
    "\n",
    "print(lista_final) "
   ]
  },
  {
   "cell_type": "markdown",
   "metadata": {},
   "source": [
    "8.Faça  um  programa  que  dadas  duas  listas  de  mesmo  tamanho, imprima o produto escalar entre elas.  OBS: produto escalar é a soma do resultado da multiplicação entre o número na posição i da lista1 pelo número na posição i da lista2, com i variando de 0 ao tamanho da lista. \n"
   ]
  },
  {
   "cell_type": "code",
   "execution_count": 2,
   "metadata": {},
   "outputs": [
    {
     "name": "stdout",
     "output_type": "stream",
     "text": [
      "60\n"
     ]
    }
   ],
   "source": [
    "lista_1=[2,4,6,8]\n",
    "lista_2=[1,2,3,4]\n",
    "\n",
    "acumulador = 0\n",
    "\n",
    "for elemento in range(len(lista_1)):\n",
    "    mult=lista_1[elemento]*lista_2[elemento]\n",
    "    acumulador += mult\n",
    "\n",
    "print(acumulador)\n"
   ]
  },
  {
   "cell_type": "markdown",
   "metadata": {},
   "source": [
    "\n",
    "9.Faça um programa que pede para o usuário digitar 5 números e, ao final, imprime uma lista com os 5 números digitados pelo usuário (sem converter os números para int ou float).  Exemplo: Se o usuário digitar 1, 5, 2, 3, 6, o programa deve imprimir a lista ['1','5','2','3','6']  \n"
   ]
  },
  {
   "cell_type": "code",
   "execution_count": null,
   "metadata": {},
   "outputs": [],
   "source": [
    "print(\"insira cinco números\")\n",
    "lista=[]\n",
    "contador=0\n",
    "while (contador<5):\n",
    "    numero = input()\n",
    "    lista.append(numero)\n",
    "    contador +=1\n",
    "print(lista)"
   ]
  },
  {
   "cell_type": "markdown",
   "metadata": {},
   "source": [
    "__ELABORAÇÃO: antes pergunta pro usuário quantos números ele quer armazenar__"
   ]
  },
  {
   "cell_type": "code",
   "execution_count": 3,
   "metadata": {},
   "outputs": [
    {
     "name": "stdout",
     "output_type": "stream",
     "text": [
      "['2', '3', '4']\n"
     ]
    }
   ],
   "source": [
    "lista=[]\n",
    "tamanhoLista = int(input(\"Digite o tamanho da lista\"))\n",
    "for i in range(tamanhoLista):\n",
    "    lista.append(input(\"Digite um numero\"))\n",
    "print(lista)"
   ]
  },
  {
   "cell_type": "markdown",
   "metadata": {},
   "source": [
    "\n",
    "10.Pegue a lista gerada no exercício anterior e transforme cada um dos itens dessa lista em um float.  OBS: Não é para alterar o programa anterior, mas sim a lista gerada por ele. \n",
    "\n"
   ]
  },
  {
   "cell_type": "code",
   "execution_count": null,
   "metadata": {},
   "outputs": [],
   "source": [
    "print(\"insira cinco números\")\n",
    "lista=[]\n",
    "lista2=[]\n",
    "contador=0\n",
    "while (contador<5):\n",
    "    numero = input()\n",
    "    lista.append(numero)\n",
    "    contador +=1\n",
    "\n",
    "for element in lista:\n",
    "    lista2.append(float(element))\n",
    "    \n",
    "print(lista)\n",
    "print(lista2)\n",
    "\n",
    "lista3 = [float(elemento) for elemento in lista]\n",
    "print(lista3)\n",
    " "
   ]
  },
  {
   "cell_type": "markdown",
   "metadata": {},
   "source": [
    "11.Faça um Programa que peça as 4 notas bimestrais e mostre a média aritmética delas, usando listas.  \n",
    "\n"
   ]
  },
  {
   "cell_type": "code",
   "execution_count": 5,
   "metadata": {},
   "outputs": [
    {
     "name": "stdout",
     "output_type": "stream",
     "text": [
      "6.5\n"
     ]
    }
   ],
   "source": [
    "notas = []\n",
    "for nota in range(4):\n",
    "    notas.append(float(input(f\"Digite a nota {nota + 1}\")))\n",
    "print(sum(notas) / len(notas))"
   ]
  },
  {
   "cell_type": "markdown",
   "metadata": {},
   "source": [
    "12.Sorteie uma lista de 10 números e imprima: \n",
    "\n",
    "- a.uma lista com os 4 primeiros números; \n",
    "- b.uma lista com os 5 últimos números; \n",
    "- c.uma lista contendo apenas os elementos das posições pares; \n",
    "- d.uma lista contendo apenas os elementos das posições ímpares; \n",
    "- e.a lista inversa da lista sorteada (isto é, uma lista que começa com o último elemento da lista sorteada e termina com o primeiro); \n",
    "- f.uma lista inversa dos 5 primeiros números; \n",
    "- g.uma lista inversa dos 5 últimos números. \n",
    "\n"
   ]
  },
  {
   "cell_type": "code",
   "execution_count": 55,
   "metadata": {},
   "outputs": [
    {
     "name": "stdout",
     "output_type": "stream",
     "text": [
      "[87, 11, 47, 32, 73, 83, 83, 3, 52, 77]\n",
      "[87, 11, 47, 32, 73]\n",
      "[83, 83, 3, 52, 77]\n",
      "[87, 47, 73, 83, 52]\n",
      "[11, 32, 83, 3, 77]\n",
      "[77, 52, 3, 83, 83, 73, 32, 47, 11, 87]\n",
      "[73, 32, 47, 11, 87]\n",
      "[77, 52, 3, 83, 83]\n"
     ]
    }
   ],
   "source": [
    "import random \n",
    "lista = []\n",
    "\n",
    "for numero in range(10):\n",
    "    lista.append(random.randint(1,100))        \n",
    "\n",
    "print(lista)\n",
    "print(lista[0:5])\n",
    "print(lista[5:10])\n",
    "print(lista[0:10:2])\n",
    "print(lista[1:10:2])\n",
    "print(lista[::-1])\n",
    "print(lista[-6:-11:-1])\n",
    "print(lista[10:4:-1])\n",
    "\n"
   ]
  },
  {
   "cell_type": "markdown",
   "metadata": {},
   "source": [
    "13.Faça  um programa que sorteia 10 números entre 0 e 100 e conte quantos números sorteados são maiores que 50. \n"
   ]
  },
  {
   "cell_type": "code",
   "execution_count": 53,
   "metadata": {},
   "outputs": [
    {
     "name": "stdout",
     "output_type": "stream",
     "text": [
      "[23, 63, 17, 17, 78, 48, 87, 56, 23, 21]\n",
      "4\n"
     ]
    }
   ],
   "source": [
    "elemento = 0\n",
    "numero = 0\n",
    "listaMaior = []\n",
    "print(lista)\n",
    "for elemento in range(len(lista)):   \n",
    "    if lista[elemento] > 50:\n",
    "        listaMaior.append(lista[elemento])\n",
    "        numero += 1\n",
    "print(numero)\n"
   ]
  },
  {
   "cell_type": "markdown",
   "metadata": {},
   "source": [
    "__ELABORAÇÃO: armazena os números maiores que 50, e mostre-os:__"
   ]
  },
  {
   "cell_type": "code",
   "execution_count": 51,
   "metadata": {},
   "outputs": [
    {
     "name": "stdout",
     "output_type": "stream",
     "text": [
      "[63, 78, 87, 56]\n"
     ]
    }
   ],
   "source": [
    "print(listaMaior)"
   ]
  },
  {
   "cell_type": "markdown",
   "metadata": {},
   "source": [
    "\n",
    "14.Faça um programa que sorteie 10 números entre 0 e 100 e imprima: \n",
    "\n",
    "- a.o maior número sorteado;\n",
    "- b.o menor número sorteado; \n",
    "- c.a média dos números sorteados; \n",
    "- d.a soma dos números sorteados."
   ]
  },
  {
   "cell_type": "code",
   "execution_count": 56,
   "metadata": {},
   "outputs": [
    {
     "name": "stdout",
     "output_type": "stream",
     "text": [
      "87\n",
      "3\n",
      "54.8\n",
      "548\n"
     ]
    }
   ],
   "source": [
    "print(max(lista))\n",
    "print(min(lista))\n",
    "print(sum(lista)/len(lista))\n",
    "print(sum(lista))"
   ]
  },
  {
   "cell_type": "markdown",
   "metadata": {},
   "source": [
    "_____\n",
    "____\n",
    "_____\n",
    "____"
   ]
  },
  {
   "cell_type": "markdown",
   "metadata": {},
   "source": [
    "# DESAFIOS"
   ]
  },
  {
   "cell_type": "markdown",
   "metadata": {},
   "source": [
    "1.Faça um programa que peça para o usuário digitar o nome e a idade de um aluno e o número de provas que esse aluno fez. Depois, o programa deve pedir para o usuário digitar as notas de cada prova do aluno. Ao final o programa deve imprimir uma lista contendo: \n",
    "\n",
    "- a.Nome do aluno na posição 0 \n",
    "- b.Idade do aluno na posição 1 \n",
    "- c.Uma lista com todas as notas na posição 2  \n",
    "- d.A média do aluno na posição 3 \n",
    "- e.True ou False, caso a média seja maior que 5 ou não, na posição 4\n",
    "\n",
    "Dica: Use o que você fez nos exercícios anteriores para criar esse programa. "
   ]
  },
  {
   "cell_type": "code",
   "execution_count": null,
   "metadata": {},
   "outputs": [],
   "source": []
  },
  {
   "cell_type": "markdown",
   "metadata": {},
   "source": [
    "\n",
    "2.Faça um programa como o do item anterior, porém que imprima a média sem considerar a maior e menor nota do aluno (nesse caso o número de provas precisa ser obrigatoriamente maior que dois).  Dica: crie uma cópia com a lista de todas as notas antes de fazer a média. \n",
    "\n"
   ]
  },
  {
   "cell_type": "code",
   "execution_count": null,
   "metadata": {},
   "outputs": [],
   "source": []
  },
  {
   "cell_type": "markdown",
   "metadata": {},
   "source": [
    "\n",
    "3.Faça um programa que pede para o usuário digitar o CPF e verifica se ele é válido. Para isso, primeiramente o programa deve multiplicar cada um dos 9 primeiros dígitos do CPF pelos números de 10 a 2 e somar todas as respostas. O resultado deve ser multiplicado por 10 e dividido por 11. O resto dessa divisão deve ser igual ao primeiro dígito verificador (10º dígito). Em seguida, o programa deve multiplicar cada \n",
    "um dos 10 primeiros dígitos do CPF pelos números de 11 a 2 e repetir o procedimento anterior para verificar o segundo dígito verificador. \n",
    "\n",
    "Exemplo:Se o CPF for 286.255.878-87 o programa deve fazer primeiro:\n",
    "\n",
    "- x = (2\\*10 + 8\\*9 + 6\\*8 + 2\\*7 + 5\\*6 + 5\\*5 + 8\\*4 + 7\\*3 + 8\\*2).  \n",
    "\n",
    "Em seguida o programa deve testar se x\\*10%11 == 8 (o décimo número do CPF).  \n",
    "\n",
    "Se sim, o programa deve calcular  \n",
    "\n",
    "- x = (2\\*11 + 8\\*10 + 6\\*9 + 2\\*8 + 5\\*7 + 5\\*6 + 8\\*5 + 7\\*4 + 8\\*3 + 8\\*2)\n",
    "\n",
    "e verificar se x\\*10%11 == 7 (o décimo primeiro número do CPF)\n",
    "\n",
    "**Observação Importante: Se o resto da divisão for igual a 10, nós o consideramos como 0**"
   ]
  },
  {
   "cell_type": "code",
   "execution_count": 123,
   "metadata": {},
   "outputs": [
    {
     "name": "stdout",
     "output_type": "stream",
     "text": [
      "Digite seu cpf, sem pontos ou traço: 39100377805\n",
      "\n",
      "O CPF é valido!\n"
     ]
    }
   ],
   "source": [
    "# converte o cpf digitado para int\n",
    "cpf =  int(input(\"Digite seu cpf, sem pontos ou traço: \"))\n",
    "\n",
    "###################################################\n",
    "\n",
    "# cria uma lista vazia, pra armazenar os digitos do cpf\n",
    "lista_digitos = []\n",
    "\n",
    "# repete 11 vezes, pra cada digito do cpf\n",
    "for i in range(11):\n",
    "\n",
    "    # pra entender melhor, descomente a linha abaixo para ver os calculos feitos!\n",
    "    #print(10-i, cpf//10**(10-i), cpf//10**(10-i),  cpf//10**(10-i) - int((cpf//10**(10-i))/10)*10)\n",
    "    \n",
    "    # aqui, caputramos cada digito do cpf\n",
    "    # a conta feita é:\n",
    "    # - primeiro, pegue a divisão inteira do cpf por potencias decrescentes de 10 (por isso o (10-i))\n",
    "    # - depois, subtraia o valor deste mesmo numero truncado\n",
    "    #   - isso é feito dividindo o numero por 10, transformando em inteiro (pra truncar), e depois \n",
    "    #     multiplicando por 10 pra acertar o truncamento decimal.\n",
    "    digito = cpf//10**(10-i) - int((cpf//10**(10-i))/10)*10\n",
    "    \n",
    "    lista_digitos.append(digito)\n",
    "    \n",
    "###################################################\n",
    "\n",
    "primeira_soma = 0\n",
    "\n",
    "for i in range(9):\n",
    "    \n",
    "    # pra entender a multiplicação feita em cada passo\n",
    "    #print(lista_digitos[i], (10-i), lista_digitos[i]*(10-i))\n",
    "    \n",
    "    primeira_soma = primeira_soma + lista_digitos[i]*(10-i)\n",
    "\n",
    "# caso o resto for 10, considere 0\n",
    "check1 = (primeira_soma*10) % 11\n",
    "if check1 == 10:\n",
    "    check1 = 0\n",
    "    \n",
    "# primeira verificação\n",
    "if check1 == lista_digitos[-2]: \n",
    "\n",
    "    segunda_soma = 0\n",
    "\n",
    "    for i in range(10):\n",
    "\n",
    "        # pra entender a multiplicação feita em cada passo\n",
    "        #print(lista_digitos[i], (11-i))\n",
    "\n",
    "        segunda_soma = segunda_soma + lista_digitos[i]*(11-i)\n",
    "        \n",
    "    # caso o resto for 10, considere 0\n",
    "    check2 = (segunda_soma*10) % 11\n",
    "    if check2 == 10:\n",
    "        check2 = 0\n",
    "      \n",
    "    # segunda verficcação\n",
    "    if check2 == lista_digitos[-1]:\n",
    "        \n",
    "        print(\"\\nO CPF é valido!\")\n",
    "\n",
    "    else:\n",
    "        \n",
    "        print(\"\\nA segunda verificação falhou! CPF inválido!\")\n",
    "else:\n",
    "    \n",
    "    print(\"\\nA primeira verificação falhou! CPF inválido!\")"
   ]
  },
  {
   "cell_type": "markdown",
   "metadata": {},
   "source": [
    "__ELABORAÇÃO: como resolver esse exercício sabendo de strings?__"
   ]
  },
  {
   "cell_type": "code",
   "execution_count": 2,
   "metadata": {},
   "outputs": [
    {
     "name": "stdout",
     "output_type": "stream",
     "text": [
      "Digite seu cpf: 09024108730\n",
      "\n",
      "O CPF é valido!\n"
     ]
    }
   ],
   "source": [
    "# nao convertemos o cpf pra numero, deixa ele como string!\n",
    "cpf =  input(\"Digite seu cpf: \")\n",
    "\n",
    "# pra retirar pontos ou traço, caso o usuario os digite\n",
    "cpf = cpf.replace(\".\", \"\")\n",
    "cpf = cpf.replace(\"-\", \"\")\n",
    "\n",
    "###################################################\n",
    "\n",
    "# essa é a unica parte que muda\n",
    "# note que não precisamos fazer aqueles calculos pra captar cada digito!\n",
    "# basta usar a função list(), aplicada à string!\n",
    "lista_digitos = list(cpf)\n",
    "\n",
    "for i in range(len(lista_digitos)):\n",
    "    lista_digitos[i] = int(lista_digitos[i])\n",
    "    \n",
    "###################################################\n",
    "\n",
    "primeira_soma = 0\n",
    "\n",
    "for i in range(9):\n",
    "    \n",
    "    # pra entender a multiplicação feita em cada passo\n",
    "    #print(lista_digitos[i], (10-i), lista_digitos[i]*(10-i))\n",
    "    \n",
    "    primeira_soma = primeira_soma + lista_digitos[i]*(10-i)\n",
    "\n",
    "# caso o resto for 10, considere 0\n",
    "check1 = (primeira_soma*10) % 11\n",
    "if check1 == 10:\n",
    "    check1 = 0\n",
    "    \n",
    "# primeira verificação\n",
    "if check1 == lista_digitos[-2]: \n",
    "\n",
    "    segunda_soma = 0\n",
    "\n",
    "    for i in range(10):\n",
    "\n",
    "        # pra entender a multiplicação feita em cada passo\n",
    "        #print(lista_digitos[i], (11-i))\n",
    "\n",
    "        segunda_soma = segunda_soma + lista_digitos[i]*(11-i)\n",
    "        \n",
    "    # caso o resto for 10, considere 0\n",
    "    check2 = (segunda_soma*10) % 11\n",
    "    if check2 == 10:\n",
    "        check2 = 0\n",
    "      \n",
    "    # segunda verficcação\n",
    "    if check2 == lista_digitos[-1]:\n",
    "        \n",
    "        print(\"\\nO CPF é valido!\")\n",
    "\n",
    "    else:\n",
    "        \n",
    "        print(\"\\nA segunda verificação falhou! CPF inválido!\")\n",
    "else:\n",
    "    \n",
    "    print(\"\\nA primeira verificação falhou! CPF inválido!\")"
   ]
  }
 ],
 "metadata": {
  "kernelspec": {
   "display_name": "Python 3",
   "language": "python",
   "name": "python3"
  },
  "language_info": {
   "codemirror_mode": {
    "name": "ipython",
    "version": 3
   },
   "file_extension": ".py",
   "mimetype": "text/x-python",
   "name": "python",
   "nbconvert_exporter": "python",
   "pygments_lexer": "ipython3",
   "version": "3.10.0"
  }
 },
 "nbformat": 4,
 "nbformat_minor": 4
}
