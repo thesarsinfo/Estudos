{
 "cells": [
  {
   "cell_type": "markdown",
   "metadata": {},
   "source": [
    "# Lista 3 - while"
   ]
  },
  {
   "cell_type": "markdown",
   "metadata": {},
   "source": [
    "1. Faça um programa que peça ao usuário um número e imprima todos os números de um até o número dado. Exemplo: digite: 5, imprime: 1 2 3 4 5"
   ]
  },
  {
   "cell_type": "code",
   "execution_count": 3,
   "metadata": {
    "ExecuteTime": {
     "end_time": "2021-10-28T00:22:04.014881Z",
     "start_time": "2021-10-28T00:22:02.146654Z"
    }
   },
   "outputs": [
    {
     "name": "stdout",
     "output_type": "stream",
     "text": [
      "O valor de n = 1\n",
      "O valor de n = 2\n",
      "O valor de n = 3\n",
      "O valor de n = 4\n",
      "O valor de n = 5\n"
     ]
    }
   ],
   "source": [
    "numero = int(input(\"Digite um número\"))\n",
    "n = 1\n",
    "while n <= numero:\n",
    "    print(f\"O valor de n = {n}\")\n",
    "    n += 1\n"
   ]
  },
  {
   "cell_type": "markdown",
   "metadata": {},
   "source": [
    "2. Peça ao usuário para digitar um número n e some todos os números de 1 a n."
   ]
  },
  {
   "cell_type": "code",
   "execution_count": 6,
   "metadata": {
    "ExecuteTime": {
     "end_time": "2021-10-28T00:22:50.961212Z",
     "start_time": "2021-10-28T00:22:49.894411Z"
    }
   },
   "outputs": [
    {
     "name": "stdout",
     "output_type": "stream",
     "text": [
      "O valor do resultado = 500500\n"
     ]
    }
   ],
   "source": [
    "numero = int(input(\"Digite um número\"))\n",
    "resultado = 0\n",
    "n = 1\n",
    "while n <= numero:\n",
    "    resultado += n     \n",
    "    n += 1\n",
    "print(f\"O valor do resultado = {resultado}\")"
   ]
  },
  {
   "cell_type": "markdown",
   "metadata": {},
   "source": [
    "3. Peça ao usuário para digitar um número e imprima o fatorial de n."
   ]
  },
  {
   "cell_type": "code",
   "execution_count": 18,
   "metadata": {
    "ExecuteTime": {
     "end_time": "2021-10-26T22:20:43.520150Z",
     "start_time": "2021-10-26T22:20:42.684148Z"
    }
   },
   "outputs": [
    {
     "name": "stdout",
     "output_type": "stream",
     "text": [
      "24\n"
     ]
    }
   ],
   "source": [
    "numero = int(input(\"Digite um número\"))\n",
    "resultado = numero\n",
    "\n",
    "while numero > 1:\n",
    "    resultado *= (numero - 1)\n",
    "    numero-=1\n",
    "print(resultado)"
   ]
  },
  {
   "cell_type": "markdown",
   "metadata": {},
   "source": [
    "4. Faça um programa que imprima a tabuada do 9 (de 9\\*1 a 9\\*10) usando loops."
   ]
  },
  {
   "cell_type": "code",
   "execution_count": 19,
   "metadata": {
    "ExecuteTime": {
     "end_time": "2021-10-27T00:12:46.409010Z",
     "start_time": "2021-10-27T00:12:46.404012Z"
    }
   },
   "outputs": [
    {
     "name": "stdout",
     "output_type": "stream",
     "text": [
      "O valor de 9 x 1 = 9\n",
      "O valor de 9 x 2 = 18\n",
      "O valor de 9 x 3 = 27\n",
      "O valor de 9 x 4 = 36\n",
      "O valor de 9 x 5 = 45\n",
      "O valor de 9 x 6 = 54\n",
      "O valor de 9 x 7 = 63\n",
      "O valor de 9 x 8 = 72\n",
      "O valor de 9 x 9 = 81\n",
      "O valor de 9 x 10 = 90\n"
     ]
    }
   ],
   "source": [
    "i = 1\n",
    "while i <= 10:\n",
    "    print(f\"O valor de 9 x {i} = {9 * i}\") \n",
    "    i += 1"
   ]
  },
  {
   "cell_type": "markdown",
   "metadata": {},
   "source": [
    "5. Faça um programa que recebe um número inteiro do usuário e imprime na tela a quantidade de divisores desse número e quais são eles.\n",
    "\n"
   ]
  },
  {
   "cell_type": "code",
   "execution_count": 21,
   "metadata": {
    "ExecuteTime": {
     "end_time": "2021-10-28T00:25:44.351225Z",
     "start_time": "2021-10-28T00:25:41.909394Z"
    }
   },
   "outputs": [
    {
     "name": "stdout",
     "output_type": "stream",
     "text": [
      "O numero 1000 é divisivel por 1\n",
      "O numero 1000 é divisivel por 2\n",
      "O numero 1000 é divisivel por 4\n",
      "O numero 1000 é divisivel por 5\n",
      "O numero 1000 é divisivel por 8\n",
      "O numero 1000 é divisivel por 10\n",
      "O numero 1000 é divisivel por 20\n",
      "O numero 1000 é divisivel por 25\n",
      "O numero 1000 é divisivel por 40\n",
      "O numero 1000 é divisivel por 50\n",
      "O numero 1000 é divisivel por 100\n",
      "O numero 1000 é divisivel por 125\n",
      "O numero 1000 é divisivel por 200\n",
      "O numero 1000 é divisivel por 250\n",
      "O numero 1000 é divisivel por 500\n",
      "O numero 1000 é divisivel por 1000\n",
      "O numero total de divisores é 16\n"
     ]
    }
   ],
   "source": [
    "numero = int(input(\"Digite um numero\"))\n",
    "contador = 1\n",
    "divisorContador = 0\n",
    "while contador <= numero:\n",
    "    if numero % contador == 0:\n",
    "        divisorContador += 1\n",
    "        print(f\"O numero {numero} é divisivel por {contador}\")\n",
    "    contador += 1\n",
    "print(f\"O numero total de divisores é {divisorContador}\")"
   ]
  },
  {
   "cell_type": "markdown",
   "metadata": {},
   "source": [
    "6. Faça um programa, usando loops, que peça para um usuário digitar um número e que só finaliza quando o usuário digitar 0. Ao final imprima a soma de todos os números digitados."
   ]
  },
  {
   "cell_type": "code",
   "execution_count": 22,
   "metadata": {
    "ExecuteTime": {
     "end_time": "2021-10-27T01:48:25.845710Z",
     "start_time": "2021-10-27T01:48:15.590052Z"
    }
   },
   "outputs": [
    {
     "name": "stdout",
     "output_type": "stream",
     "text": [
      "25\n"
     ]
    }
   ],
   "source": [
    "numero = 1\n",
    "resultado = 0\n",
    "while numero != 0:\n",
    "    numero = int(input(\"Digite o numero\"))\n",
    "    resultado += numero\n",
    "print(f\"A soma total é = {resultado}\")"
   ]
  },
  {
   "cell_type": "markdown",
   "metadata": {},
   "source": [
    "7. Faça um programa que sorteia um número N e peça para o usuário adivinhar o número sorteado. A cada resposta errada, o seu programa deve imprimir um aviso dizendo que a resposta está errada e pedir novamente uma resposta ao usuário."
   ]
  },
  {
   "cell_type": "code",
   "execution_count": 26,
   "metadata": {
    "ExecuteTime": {
     "end_time": "2021-10-27T01:55:43.070971Z",
     "start_time": "2021-10-27T01:55:38.947021Z"
    }
   },
   "outputs": [
    {
     "name": "stdout",
     "output_type": "stream",
     "text": [
      "5\n",
      "Voce errou\n",
      "4\n",
      "Voce errou\n",
      "3\n",
      "Voce errou\n",
      "7\n",
      "Voce errou\n",
      "2\n",
      "Voce errou\n",
      "1\n",
      "Voce errou\n",
      "0\n",
      "Voce errou\n",
      "6\n",
      "Parabens voce acertou\n",
      "Tentativas tendadas 8\n"
     ]
    }
   ],
   "source": [
    "import random\n",
    "numero = -1\n",
    "tentativasTentadas = 0\n",
    "sorteiado = random.randint(0,10)\n",
    "while numero != sorteiado:\n",
    "    numero = int(input(\"Digite um numero de 0 a 10\"))\n",
    "    tentativasTentadas += 1\n",
    "    if numero == sorteiado:\n",
    "        print(numero)\n",
    "        print(\"Parabens voce acertou\")\n",
    "    else:\n",
    "        print(numero)\n",
    "        print(\"Voce errou\")\n",
    "print(f\"Tentativas tendadas {tentativasTentadas}\")\n"
   ]
  },
  {
   "cell_type": "markdown",
   "metadata": {},
   "source": [
    "8. Faça um programa que peça para o usuário digitar a idade, o salário e o sexo de uma pessoa até que as entradas digitadas sejam válidas.\n",
    "    a. Idade: entre 0 e 150;\n",
    "    b. Salário: maior que 0;\n",
    "    c. Sexo: M, F ou Outro."
   ]
  },
  {
   "cell_type": "code",
   "execution_count": 30,
   "metadata": {},
   "outputs": [
    {
     "ename": "ValueError",
     "evalue": "invalid literal for int() with base 10: ''",
     "output_type": "error",
     "traceback": [
      "\u001b[1;31m---------------------------------------------------------------------------\u001b[0m",
      "\u001b[1;31mValueError\u001b[0m                                Traceback (most recent call last)",
      "\u001b[1;32m~\\AppData\\Local\\Temp/ipykernel_10248/465781244.py\u001b[0m in \u001b[0;36m<module>\u001b[1;34m\u001b[0m\n\u001b[0;32m      2\u001b[0m \u001b[0msexo\u001b[0m \u001b[1;33m=\u001b[0m \u001b[1;34m\"\"\u001b[0m\u001b[1;33m\u001b[0m\u001b[1;33m\u001b[0m\u001b[0m\n\u001b[0;32m      3\u001b[0m \u001b[1;32mwhile\u001b[0m \u001b[0midade\u001b[0m \u001b[1;33m!=\u001b[0m \u001b[1;33m(\u001b[0m\u001b[1;36m0\u001b[0m \u001b[1;33m<=\u001b[0m \u001b[0midade\u001b[0m \u001b[1;33m<=\u001b[0m \u001b[1;36m150\u001b[0m \u001b[1;33m)\u001b[0m\u001b[1;33m:\u001b[0m\u001b[1;33m\u001b[0m\u001b[1;33m\u001b[0m\u001b[0m\n\u001b[1;32m----> 4\u001b[1;33m     \u001b[0midade\u001b[0m \u001b[1;33m=\u001b[0m \u001b[0mint\u001b[0m\u001b[1;33m(\u001b[0m\u001b[0minput\u001b[0m\u001b[1;33m(\u001b[0m\u001b[1;34m\"Digite sua idade\"\u001b[0m\u001b[1;33m)\u001b[0m\u001b[1;33m)\u001b[0m\u001b[1;33m\u001b[0m\u001b[1;33m\u001b[0m\u001b[0m\n\u001b[0m\u001b[0;32m      5\u001b[0m \u001b[1;32mwhile\u001b[0m \u001b[0msalario\u001b[0m \u001b[1;33m<\u001b[0m \u001b[1;36m0\u001b[0m\u001b[1;33m:\u001b[0m\u001b[1;33m\u001b[0m\u001b[1;33m\u001b[0m\u001b[0m\n\u001b[0;32m      6\u001b[0m     \u001b[0msalario\u001b[0m \u001b[1;33m=\u001b[0m \u001b[0mfloat\u001b[0m\u001b[1;33m(\u001b[0m\u001b[0minput\u001b[0m\u001b[1;33m(\u001b[0m\u001b[1;34m\"Digite o seu salario\"\u001b[0m\u001b[1;33m)\u001b[0m\u001b[1;33m)\u001b[0m\u001b[1;33m\u001b[0m\u001b[1;33m\u001b[0m\u001b[0m\n",
      "\u001b[1;31mValueError\u001b[0m: invalid literal for int() with base 10: ''"
     ]
    }
   ],
   "source": [
    "idade = salario = -1\n",
    "sexo = \"\"\n",
    "while idade != (0 <= idade <= 150 ):\n",
    "    idade = int(input(\"Digite sua idade\"))\n",
    "    print(idade)\n",
    "while salario < 0:\n",
    "    salario = float(input(\"Digite o seu salario\"))\n",
    "while sexo != \"M\" and sexo != \"F\" and sexo != \"OUTRO\":\n",
    "    sexo = input(\"Digite o seu sexo: M, F ou OUTRO\").upper()\n",
    "    print(sexo)\n",
    "print(f\"A sua idade é = {idade} e seu salário = {salario} e seu sexo é {sexo}\")"
   ]
  },
  {
   "cell_type": "markdown",
   "metadata": {},
   "source": [
    "__________________\n",
    "__________________\n",
    "\n",
    "__________________\n",
    "__________________\n"
   ]
  },
  {
   "cell_type": "markdown",
   "metadata": {},
   "source": [
    "# DESAFIOS"
   ]
  },
  {
   "cell_type": "markdown",
   "metadata": {},
   "source": [
    "1. Calcule a soma de até mil termos da série 1 + 1/2 + 1/4 + 1/8 + 1/16 + ...\n",
    "Dica: Use três variáveis:\n",
    "um contador, que começa em zero;\n",
    "uma variável para a soma de todos os termos, que também começa em zero;\n",
    "uma variável para cada termo, que começa em 1 e a cada loop é dividida por 2.\n",
    "A repetição da soma de mil termos pode ser feita com a função while contador < 1000.\n"
   ]
  },
  {
   "cell_type": "code",
   "execution_count": null,
   "metadata": {
    "ExecuteTime": {
     "end_time": "2021-10-27T02:11:13.118492Z",
     "start_time": "2021-10-27T02:11:12.939600Z"
    }
   },
   "outputs": [],
   "source": []
  },
  {
   "cell_type": "code",
   "execution_count": null,
   "metadata": {
    "ExecuteTime": {
     "end_time": "2021-10-27T23:28:10.976702Z",
     "start_time": "2021-10-27T23:28:10.794864Z"
    }
   },
   "outputs": [],
   "source": []
  },
  {
   "cell_type": "markdown",
   "metadata": {},
   "source": [
    "\n",
    "\n",
    "2. Super Desafio! - Calcule a soma de mil termos dos inversos dos fatoriais: 1/(1!) + 1/(2!) + 1/(3!) + 1/(4!) + ...\n",
    "Dica: Assim como no exercício anterior use três variáveis: um contador; uma variável para a soma; e uma variável para os termos.\n",
    "Lembre-se de que 4! = 4\\*3\\*2\\*1 que também é igual a 4\\*3!."
   ]
  },
  {
   "cell_type": "code",
   "execution_count": null,
   "metadata": {
    "ExecuteTime": {
     "end_time": "2021-10-27T02:33:26.847377Z",
     "start_time": "2021-10-27T02:33:26.828387Z"
    }
   },
   "outputs": [],
   "source": []
  },
  {
   "cell_type": "code",
   "execution_count": null,
   "metadata": {
    "ExecuteTime": {
     "end_time": "2021-10-27T02:31:12.351172Z",
     "start_time": "2021-10-27T02:31:11.899767Z"
    }
   },
   "outputs": [],
   "source": []
  },
  {
   "cell_type": "code",
   "execution_count": null,
   "metadata": {
    "ExecuteTime": {
     "end_time": "2021-10-27T23:58:19.857966Z",
     "start_time": "2021-10-27T23:58:19.623633Z"
    }
   },
   "outputs": [],
   "source": []
  },
  {
   "cell_type": "code",
   "execution_count": null,
   "metadata": {},
   "outputs": [],
   "source": []
  }
 ],
 "metadata": {
  "kernelspec": {
   "display_name": "Python 3",
   "language": "python",
   "name": "python3"
  },
  "language_info": {
   "codemirror_mode": {
    "name": "ipython",
    "version": 3
   },
   "file_extension": ".py",
   "mimetype": "text/x-python",
   "name": "python",
   "nbconvert_exporter": "python",
   "pygments_lexer": "ipython3",
   "version": "3.10.0"
  }
 },
 "nbformat": 4,
 "nbformat_minor": 4
}
