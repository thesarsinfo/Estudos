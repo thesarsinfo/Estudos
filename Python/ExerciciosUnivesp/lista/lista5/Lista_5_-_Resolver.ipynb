{
 "cells": [
  {
   "cell_type": "markdown",
   "metadata": {},
   "source": [
    "# Lista 5 - Strings"
   ]
  },
  {
   "cell_type": "markdown",
   "metadata": {},
   "source": [
    "1.Faça um programa que pede para o usuário digitar uma palavra e imprima cada letra em uma linha. \n",
    "\n"
   ]
  },
  {
   "cell_type": "code",
   "execution_count": 3,
   "metadata": {},
   "outputs": [
    {
     "name": "stdout",
     "output_type": "stream",
     "text": [
      "p\n",
      "y\n",
      "t\n",
      "h\n",
      "o\n",
      "n\n"
     ]
    }
   ],
   "source": [
    "palavra = input(\"Digite uma palavra\")\n",
    "for letra in palavra:\n",
    "    print(letra)\n"
   ]
  },
  {
   "cell_type": "markdown",
   "metadata": {},
   "source": [
    "2.Faça um programa que pede para o usuário digitar uma palavra e cria uma nova string igual, copiando letra por letra a palavra digitada, depois imprima a nova string. \n",
    "\n"
   ]
  },
  {
   "cell_type": "code",
   "execution_count": 4,
   "metadata": {},
   "outputs": [
    {
     "name": "stdout",
     "output_type": "stream",
     "text": [
      "python\n"
     ]
    }
   ],
   "source": [
    "\n",
    "palavra_copia = \"\"\n",
    "for letra in palavra:\n",
    "    palavra_copia += letra\n",
    "print(palavra_copia)"
   ]
  },
  {
   "cell_type": "markdown",
   "metadata": {},
   "source": [
    "3.Altere o exercício anterior para que a string copiada alterne entre letras maiúsculas e minúsculas Exemplo: se  o  usuário  digitar  \"latex\"  o  programa  deve  imprimir \"LaTeX\". \n",
    "\n"
   ]
  },
  {
   "cell_type": "code",
   "execution_count": 17,
   "metadata": {},
   "outputs": [
    {
     "name": "stdout",
     "output_type": "stream",
     "text": [
      "6\n",
      "P\n",
      "Py\n",
      "PyT\n",
      "PyTh\n",
      "PyThO\n",
      "PyThOn\n",
      "PyThOn\n"
     ]
    }
   ],
   "source": [
    "palavra = input(\"Digite a palavra\")\n",
    "palavra_modificada = \"\"\n",
    "print(len(palavra))\n",
    "for letra in range(len(palavra)):    \n",
    "    \n",
    "    if(letra % 2 == 0):        \n",
    "        palavra_modificada = palavra_modificada +  palavra[letra].upper()\n",
    "        print(palavra_modificada)\n",
    "    else:\n",
    "        palavra_modificada = palavra_modificada + palavra[letra].lower()\n",
    "        print(palavra_modificada)\n",
    "print(palavra_modificada)\n"
   ]
  },
  {
   "cell_type": "markdown",
   "metadata": {},
   "source": [
    "4.Faça um programa que pede para o usuário digitar uma palavra e cria uma nova string igual, porém com espaço entre cada letra, depois imprima a nova string: Exemplo: se o usuário digitar \"python\" o programa deve imprimir  \"p y t h o n \" \n",
    "\n"
   ]
  },
  {
   "cell_type": "code",
   "execution_count": 5,
   "metadata": {},
   "outputs": [
    {
     "name": "stdout",
     "output_type": "stream",
     "text": [
      "p y t h o n \n"
     ]
    }
   ],
   "source": [
    "palavra_espacada = \"\"\n",
    "for letra in palavra:\n",
    "    palavra_espacada += letra + \" \"\n",
    "print(palavra_espacada)"
   ]
  },
  {
   "cell_type": "markdown",
   "metadata": {},
   "source": [
    "5.Faça uma função que receba uma string e retorne uma nova string substituindo: 'a' por '4' 'e' por '3' 'I' por '1' 't' por '7' \n",
    "\n"
   ]
  },
  {
   "cell_type": "code",
   "execution_count": 18,
   "metadata": {},
   "outputs": [
    {
     "name": "stdout",
     "output_type": "stream",
     "text": [
      "PyThOnp4r41313pip3do 73rr4qu3o\n"
     ]
    }
   ],
   "source": [
    "palavra = input(\"Digite uma palavra\")\n",
    "palavra_modificada = \"\"\n",
    "for letra in palavra:\n",
    "    match letra:\n",
    "        case 'a':\n",
    "            letra = '4'\n",
    "        case 'e':\n",
    "            letra = '3'\n",
    "        case 'l':\n",
    "            letra = '1'\n",
    "        case 't':\n",
    "            letra = '7'\n",
    "        case _:\n",
    "            letra = letra\n",
    "    palavra_modificada += letra\n",
    "print(palavra_modificada)"
   ]
  },
  {
   "cell_type": "markdown",
   "metadata": {},
   "source": [
    "6.Faça uma função que recebe uma string e retorna ela ao contrário. Exemplo: Recebe \"teste\" e retorna \"etset\". \n"
   ]
  },
  {
   "cell_type": "code",
   "execution_count": 23,
   "metadata": {},
   "outputs": [
    {
     "data": {
      "text/plain": [
       "'etset'"
      ]
     },
     "execution_count": 23,
     "metadata": {},
     "output_type": "execute_result"
    }
   ],
   "source": [
    "palavra = input(\"Digite uma palavra\")\n",
    "tamanho = len(palavra) + 1\n",
    "palavra[-1:(tamanho * -1) :-1]"
   ]
  },
  {
   "cell_type": "markdown",
   "metadata": {},
   "source": [
    "\n",
    "7.Agora faça uma função que recebe uma palavra e diz se ela é um palíndromo, ou seja, se ela é igual a ela mesma ao contrário. Dica: Use a função do exercício 5."
   ]
  },
  {
   "cell_type": "code",
   "execution_count": 26,
   "metadata": {},
   "outputs": [
    {
     "name": "stdout",
     "output_type": "stream",
     "text": [
      "A palavra não é palindromo\n"
     ]
    }
   ],
   "source": [
    "palavra = input(\"Digite uma palavra\")\n",
    "inverso_palavra = palavra[-1:(tamanho * -1) :-1]\n",
    "if palavra == inverso_palavra:\n",
    "    print(\"A palavra é palindromo\")\n",
    "else:\n",
    "    print(\"A palavra não é palindromo\")\n",
    "\n"
   ]
  },
  {
   "cell_type": "markdown",
   "metadata": {},
   "source": [
    "8.Faça uma função que receba um texto e uma palavra, então verifique se a palavra está no texto, retornando True ou False. "
   ]
  },
  {
   "cell_type": "code",
   "execution_count": 32,
   "metadata": {},
   "outputs": [
    {
     "name": "stdout",
     "output_type": "stream",
     "text": [
      "0\n",
      "A palavra teste foi encontrada\n"
     ]
    }
   ],
   "source": [
    "frase = input(\"Digite uma frase \")\n",
    "palavra_procurada = input(\"Digite a palavra procurada\")\n",
    "valor = frase.find(palavra_procurada)\n",
    "print(valor)\n",
    "if valor == -1:\n",
    "    print(\"Palavra não encontrada\")\n",
    "else:\n",
    "    print(f\"A palavra {palavra_procurada} foi encontrada\")\n"
   ]
  },
  {
   "cell_type": "markdown",
   "metadata": {},
   "source": [
    "__Elaoração: informando se a palavra está contida na frase ou não__"
   ]
  },
  {
   "cell_type": "code",
   "execution_count": 47,
   "metadata": {},
   "outputs": [
    {
     "name": "stdout",
     "output_type": "stream",
     "text": [
      "A palavra 'python' está contida no texto 'programar em python é muito legal!'\n",
      "\n",
      "\n",
      "A palavra 'programação' NÃO está contida no texto 'qualquer frase aleatória'\n"
     ]
    }
   ],
   "source": []
  },
  {
   "cell_type": "markdown",
   "metadata": {},
   "source": [
    "9.Faça uma função que receba uma string que contém tanto números quanto letras e caracteres especiais, e que separe as letras em uma variável e os números em outra (os caracteres especiais podem ser descartados). Ao final a função deve imprimir as duas variáveis."
   ]
  },
  {
   "cell_type": "code",
   "execution_count": 35,
   "metadata": {},
   "outputs": [
    {
     "name": "stdout",
     "output_type": "stream",
     "text": [
      "[' ', ' ', ' ', ' ']\n",
      "['0', '1', '5', '1', '1', '4', '9', '7', '8', '4', '2', '3', '4', '4']\n"
     ]
    }
   ],
   "source": [
    "import re\n",
    "frase = input(\"Digite o seu celular\")\n",
    "letras = re.findall(\"[a-z-A-Z]\", frase)\n",
    "numeros = re.findall(\"\\d\", frase)\n",
    "print(letras)\n",
    "print(numeros)"
   ]
  },
  {
   "cell_type": "markdown",
   "metadata": {},
   "source": [
    "___\n",
    "___\n",
    "___\n",
    "___"
   ]
  },
  {
   "cell_type": "markdown",
   "metadata": {},
   "source": [
    "# DESAFIOS"
   ]
  },
  {
   "cell_type": "markdown",
   "metadata": {},
   "source": [
    "1.Faça uma função que receba uma string e uma letra e: \n",
    "\n",
    "- a.imprima quantas vezes a letra aparece na string; \n",
    "\n",
    "- b.imprima todas as posições em que a letra aparece na string; \n",
    "\n",
    "- c.retorne a distância entre a primeira e a última aparição dessa letra na string. "
   ]
  },
  {
   "cell_type": "code",
   "execution_count": 55,
   "metadata": {},
   "outputs": [
    {
     "name": "stdout",
     "output_type": "stream",
     "text": [
      "A letra 'a' aparece na string 'papagaio' 3 vezes\n",
      "A letra 'a' aparece na string 'papagaio' nas posições [1, 3, 5]\n",
      "4\n"
     ]
    }
   ],
   "source": []
  },
  {
   "cell_type": "markdown",
   "metadata": {},
   "source": [
    "2.Super Desafio! - faça uma função que criptografa uma mensagem substituindo cada letra pela letra oposta do dicionário: 'a' por 'z' 'b' por 'y' 'c' por 'x' "
   ]
  },
  {
   "cell_type": "code",
   "execution_count": 41,
   "metadata": {},
   "outputs": [
    {
     "name": "stdout",
     "output_type": "stream",
     "text": [
      "fnz nvmhztvn hfkvi hvxivgz\n",
      "\n",
      "\n",
      "uma mensagem super secreta\n"
     ]
    }
   ],
   "source": []
  }
 ],
 "metadata": {
  "kernelspec": {
   "display_name": "Python 3",
   "language": "python",
   "name": "python3"
  },
  "language_info": {
   "codemirror_mode": {
    "name": "ipython",
    "version": 3
   },
   "file_extension": ".py",
   "mimetype": "text/x-python",
   "name": "python",
   "nbconvert_exporter": "python",
   "pygments_lexer": "ipython3",
   "version": "3.10.0"
  }
 },
 "nbformat": 4,
 "nbformat_minor": 4
}
